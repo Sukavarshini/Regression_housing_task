{
 "cells": [
  {
   "cell_type": "markdown",
   "id": "5428417e",
   "metadata": {},
   "source": [
    "\n",
    "# Task 3: Linear Regression – House Price Prediction\n",
    "\n",
    "This notebook implements simple and multiple linear regression using the Housing Price dataset.  \n",
    "You'll learn how to prepare data, train a regression model, evaluate it, and visualize the results.\n"
   ]
  },
  {
   "cell_type": "code",
   "execution_count": null,
   "id": "edbb0568",
   "metadata": {},
   "outputs": [],
   "source": [
    "# Import required libraries\n",
    "import pandas as pd\n",
    "import numpy as np\n",
    "import seaborn as sns\n",
    "import matplotlib.pyplot as plt\n",
    "from sklearn.model_selection import train_test_split\n",
    "from sklearn.linear_model import LinearRegression\n",
    "from sklearn.metrics import mean_absolute_error, mean_squared_error, r2_score\n",
    "from google.colab import files\n"
   ]
  },
  {
   "cell_type": "code",
   "execution_count": null,
   "id": "73030653",
   "metadata": {},
   "outputs": [],
   "source": [
    "# Load your uploaded dataset\n",
    "uploaded = files.upload()  # upload Housing.csv\n",
    "df = pd.read_csv(\"Housing.csv\")\n",
    "print(\"Data Shape:\", df.shape)\n",
    "df.head()\n"
   ]
  },
  {
   "cell_type": "code",
   "execution_count": null,
   "id": "dd5572b3",
   "metadata": {},
   "outputs": [],
   "source": [
    "# Encode categorical variables and preprocess\n",
    "df.replace({'yes': 1, 'no': 0}, inplace=True)\n",
    "df = pd.get_dummies(df, drop_first=True)  # one-hot encode if needed\n"
   ]
  },
  {
   "cell_type": "code",
   "execution_count": null,
   "id": "afe7e7ee",
   "metadata": {},
   "outputs": [],
   "source": [
    "# Define features and target\n",
    "X = df.drop('price', axis=1)\n",
    "y = df['price']\n",
    "\n",
    "# Train-test split\n",
    "X_train, X_test, y_train, y_test = train_test_split(X, y, test_size=0.2, random_state=42)\n"
   ]
  },
  {
   "cell_type": "code",
   "execution_count": null,
   "id": "3e20594c",
   "metadata": {},
   "outputs": [],
   "source": [
    "# Fit Linear Regression Model\n",
    "model = LinearRegression()\n",
    "model.fit(X_train, y_train)\n",
    "\n",
    "# Print coefficients\n",
    "print(\"Intercept:\", model.intercept_)\n",
    "print(\"Coefficients:\")\n",
    "for feature, coef in zip(X.columns, model.coef_):\n",
    "    print(f\"{feature}: {coef:.2f}\")\n"
   ]
  },
  {
   "cell_type": "code",
   "execution_count": null,
   "id": "01c5b9f6",
   "metadata": {},
   "outputs": [],
   "source": [
    "# Evaluate model\n",
    "y_pred = model.predict(X_test)\n",
    "\n",
    "mae = mean_absolute_error(y_test, y_pred)\n",
    "mse = mean_squared_error(y_test, y_pred)\n",
    "r2 = r2_score(y_test, y_pred)\n",
    "\n",
    "print(f\"\\nMAE: {mae:.2f}\")\n",
    "print(f\"MSE: {mse:.2f}\")\n",
    "print(f\"R² Score: {r2:.2f}\")\n"
   ]
  },
  {
   "cell_type": "code",
   "execution_count": null,
   "id": "af4e4dec",
   "metadata": {},
   "outputs": [],
   "source": [
    "# Plot predicted vs actual\n",
    "plt.figure(figsize=(8,5))\n",
    "sns.scatterplot(x=y_test, y=y_pred)\n",
    "plt.xlabel(\"Actual Price\")\n",
    "plt.ylabel(\"Predicted Price\")\n",
    "plt.title(\"Actual vs Predicted Prices\")\n",
    "plt.savefig(\"regression_plot.png\")\n",
    "plt.show()\n",
    "\n",
    "# Download plot\n",
    "files.download(\"regression_plot.png\")\n"
   ]
  }
 ],
 "metadata": {},
 "nbformat": 4,
 "nbformat_minor": 5
}